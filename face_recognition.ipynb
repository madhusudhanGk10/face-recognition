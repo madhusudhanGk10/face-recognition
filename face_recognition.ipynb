{
 "cells": [
  {
   "cell_type": "code",
   "execution_count": 1,
   "id": "24c21e61",
   "metadata": {},
   "outputs": [
    {
     "name": "stdout",
     "output_type": "stream",
     "text": [
      "Requirement already satisfied: opencv-python in c:\\users\\malle\\appdata\\local\\programs\\python\\python312\\lib\\site-packages (4.10.0.84)\n",
      "Requirement already satisfied: numpy>=1.21.2 in c:\\users\\malle\\appdata\\local\\programs\\python\\python312\\lib\\site-packages (from opencv-python) (2.2.1)\n",
      "Note: you may need to restart the kernel to use updated packages.\n"
     ]
    }
   ],
   "source": [
    "pip install opencv-python"
   ]
  },
  {
   "cell_type": "code",
   "execution_count": 1,
   "id": "73e5cde8",
   "metadata": {},
   "outputs": [
    {
     "data": {
      "text/plain": [
       "< cv2.VideoCapture 000002845AA36590>"
      ]
     },
     "execution_count": 1,
     "metadata": {},
     "output_type": "execute_result"
    }
   ],
   "source": [
    "import cv2\n",
    "cv2.VideoCapture(0)"
   ]
  },
  {
   "cell_type": "code",
   "execution_count": null,
   "id": "56f5c567",
   "metadata": {},
   "outputs": [],
   "source": [
    "import cv2\n",
    "import numpy as np\n",
    "import json\n",
    "# Load the known faces and names from the JSON file\n",
    "with open(\"known_faces.json\", \"r\") as f:  # Replace with the path to your JSON file\n",
    "    data = json.load(f)\n",
    "#Initialize lists for face encodings and names\n",
    "known_face_encodings = []\n",
    "known_face_names = []\n",
    "# Initialize the face recognizer (LBPH)\n",
    "recognizer = cv2.face.LBPHFaceRecognizer_create()\n",
    "# Load images and their names from the JSON data\n",
    "for person in data[\"known_faces\"]:\n",
    "    image_path = person[\"image_path\"]\n",
    "    name = person[\"name\"]\n",
    "    # Load the image of the known person\n",
    "    person_image = cv2.imread(image_path)\n",
    "    # Convert image to grayscale (LBPH recognizer works with grayscale images)\n",
    "    gray_image = cv2.cvtColor(person_image, cv2.COLOR_BGR2GRAY)\n",
    "    # Initialize face detector (Haar Cascade for face detection)\n",
    "    face_cascade = cv2.CascadeClassifier(cv2.data.haarcascades + 'haarcascade_frontalface_default.xml')\n",
    "    # Detect faces in the image\n",
    "    faces = face_cascade.detectMultiScale(gray_image, scaleFactor=1.1, minNeighbors=5)\n",
    "    # Loop over detected faces and extract encoding (just taking the first face)\n",
    "    for (x, y, w, h) in faces:\n",
    "        face_image = gray_image[y:y+h, x:x+w]\n",
    "        known_face_encodings.append(face_image)  # Add the face region as an encoding\n",
    "        known_face_names.append(name)  # Store the name\n",
    "# Initialize the video capture (0 for webcam)\n",
    "video_capture = cv2.VideoCapture(0)\n",
    "# Train the recognizer with the known faces and their names\n",
    "recognizer.train(known_face_encodings, np.array([i for i in range(len(known_face_names))]))\n",
    "while True:\n",
    "    # Capture a frame from the webcam\n",
    "    ret, frame = video_capture.read()\n",
    "    # Convert the frame to grayscale\n",
    "    gray_frame = cv2.cvtColor(frame, cv2.COLOR_BGR2GRAY)\n",
    "    # Detect faces in the frame\n",
    "    faces = face_cascade.detectMultiScale(gray_frame, scaleFactor=1.1, minNeighbors=5)\n",
    "    # Loop over each face found in the frame\n",
    "    for (x, y, w, h) in faces:\n",
    "        face_image = gray_frame[y:y+h, x:x+w]\n",
    "        # Recognize the face\n",
    "        label, confidence = recognizer.predict(face_image)\n",
    "        # Get the name of the recognized person\n",
    "        name = known_face_names[label] if confidence < 100 else \"Unknown\"  # Label is index, confidence is the distance\n",
    "        # Draw a rectangle around the face\n",
    "        cv2.rectangle(frame, (x, y), (x + w, y + h), (0, 0, 255), 2)\n",
    "        # Put the name of the recognized person above the face\n",
    "        cv2.putText(frame, name, (x, y - 10), cv2.FONT_HERSHEY_SIMPLEX, 0.9, (0, 255, 0), 2)\n",
    "    # Display the resulting frame with recognized faces\n",
    "    cv2.imshow('Video', frame)\n",
    "    # Break the loop if the user presses the 'q' key\n",
    "    if cv2.waitKey(1) & 0xFF == ord('q'):\n",
    "        break\n",
    "# Release the video capture object and close any OpenCV windows\n",
    "video_capture.release()\n",
    "cv2.destroyAllWindows()\n"
   ]
  },
  {
   "cell_type": "code",
   "execution_count": null,
   "id": "8a5ddb26-7ee4-4720-8f9a-3256dd1be91e",
   "metadata": {},
   "outputs": [],
   "source": []
  }
 ],
 "metadata": {
  "kernelspec": {
   "display_name": "Python 3 (ipykernel)",
   "language": "python",
   "name": "python3"
  },
  "language_info": {
   "codemirror_mode": {
    "name": "ipython",
    "version": 3
   },
   "file_extension": ".py",
   "mimetype": "text/x-python",
   "name": "python",
   "nbconvert_exporter": "python",
   "pygments_lexer": "ipython3",
   "version": "3.9.13"
  }
 },
 "nbformat": 4,
 "nbformat_minor": 5
}
